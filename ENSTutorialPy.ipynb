{
 "cells": [
  {
   "cell_type": "markdown",
   "metadata": {},
   "source": [
    "# Ethereum ENS tutorial and playground with Python & web3.py\n",
    "\n",
    "Tested on Energy Web Foundation's Tobalaba test network.\n",
    "\n",
    "Please make a test account with some test tokens for experimentation"
   ]
  },
  {
   "cell_type": "code",
   "execution_count": null,
   "metadata": {},
   "outputs": [],
   "source": [
    "import os\n",
    "import json\n",
    "\n",
    "from web3 import Web3\n",
    "\n",
    "# we cannot use the namehash function from the ENS API because it doesn't support .ewf TLDs\n",
    "from ensutils import name_to_hash, label_to_hash\n",
    "\n",
    "# ENS contract addresses\n",
    "registry_address = Web3.toChecksumAddress(\"0x76b4d318cf896288fd44315e93c891ad4017aa14\")\n",
    "registrar_address = Web3.toChecksumAddress(\"0xf106c25e7624726dfa52a25f4fef29ec6a8ce103\")\n",
    "resolver_address = Web3.toChecksumAddress(\"0x1da4c76ed136f32693700714502c6dacd62f5a3c\")\n",
    "reverse_resolver_address = Web3.toChecksumAddress(\"0x9d17a1ef45df65af5cdbfc98e3bfe3e90463780e\")\n",
    "reverse_registrar_address = Web3.toChecksumAddress(\"0x89a3ae0d90304b00cea94c0f5528b1c657b041cc\")\n",
    "\n",
    "# location of contract abis\n",
    "# change this if needed\n",
    "contractfolder = os.path.join(os.getcwd(), \"abis\")\n",
    "\n",
    "# rpc address\n",
    "http_rpc = \"http://127.0.0.1:8545\"\n",
    "\n",
    "#reading abis\n",
    "with open(os.path.join(contractfolder, 'ENSRegistry.abi')) as f:\n",
    "    registry_abi = json.load(f)\n",
    "    \n",
    "with open(os.path.join(contractfolder, 'FIFSRegistrar.abi')) as f:\n",
    "    registrar_abi = json.load(f)\n",
    "    \n",
    "with open(os.path.join(contractfolder, 'PublicResolver.abi')) as f:\n",
    "    resolver_abi = json.load(f)\n",
    "\n",
    "with open(os.path.join(contractfolder, 'ResolverInterface.abi')) as f:\n",
    "    resolver_interface_abi = json.load(f)\n",
    "\n",
    "with open(os.path.join(contractfolder, 'DefaultReverseResolver.abi')) as f:\n",
    "    reverse_resolver_abi = json.load(f)\n",
    "\n",
    "with open(os.path.join(contractfolder, 'ReverseRegistrar.abi')) as f:\n",
    "    reverse_registrar_abi = json.load(f)\n",
    "    \n",
    "ADDRESS_EMPTY = \"0x\" + \"0\" * 40"
   ]
  },
  {
   "cell_type": "code",
   "execution_count": null,
   "metadata": {},
   "outputs": [],
   "source": [
    "# setting provider\n",
    "w3 = Web3(Web3.HTTPProvider(http_rpc))\n",
    "\n",
    "# you have to make the ENS API point to the \n",
    "# ENS-Registry contract address if you want to use the ENS API\n",
    "ns = w3.ens.fromWeb3(web3=w3, addr=registry_address)\n",
    "\n",
    "# set the default account to use and unlock it\n",
    "w3.eth.defaultAccount = w3.eth.accounts[0]\n",
    "#w3.personal.unlockAccount(w3.eth.defaultAccount, \"yourpassword\")"
   ]
  },
  {
   "cell_type": "code",
   "execution_count": null,
   "metadata": {},
   "outputs": [],
   "source": [
    "# Instantiate the deployed registry and resolver contracts to use\n",
    "registry = w3.eth.contract(address=registry_address, abi=registry_abi)\n",
    "registrar = w3.eth.contract(address=registrar_address, abi=registrar_abi)\n",
    "resolver = w3.eth.contract(address=resolver_address, abi=resolver_abi)\n",
    "reverse_resolver = w3.eth.contract(address=reverse_resolver_address, abi=reverse_resolver_abi)\n",
    "reverse_registrar = w3.eth.contract(address=reverse_registrar_address, abi=reverse_registrar_abi)"
   ]
  },
  {
   "cell_type": "markdown",
   "metadata": {},
   "source": [
    "## Doing lookups and reverse lookups"
   ]
  },
  {
   "cell_type": "markdown",
   "metadata": {},
   "source": [
    "### Resolving names (lookup)\n",
    " 1. Get resolver address of a node from registry\n",
    " 2. Instantiate resolver contrac with resolver interface abi\n",
    " 2. Fetch registered address (or whatever you need)"
   ]
  },
  {
   "cell_type": "code",
   "execution_count": null,
   "metadata": {},
   "outputs": [],
   "source": [
    "abi_of_resolver = resolver_abi\n",
    "name_to_check = \"mycompany.ewf\"\n",
    "reg_addr = registry.functions.resolver(name_to_hash(name_to_check)).call()\n",
    "\n",
    "# check if resolver is actually set\n",
    "if reg_addr != ADDRESS_EMPTY:\n",
    "    res = w3.eth.contract(address=Web3.toChecksumAddress(reg_addr), abi=resolver_interface_abi)\n",
    "    print(name_to_check + \": \" +res.functions.addr(name_to_hash(name_to_check)).call())\n",
    "else:\n",
    "    print(\"This name cannot be resolved: resolver not set.\")"
   ]
  },
  {
   "cell_type": "markdown",
   "metadata": {},
   "source": [
    "### Resolving addresses (reverse lookup)\n",
    " 1. Get resolver address of the address node from registry\n",
    " 2. Instantiate reverse resolver contract\n",
    " 2. Fetch canonical name for the address"
   ]
  },
  {
   "cell_type": "code",
   "execution_count": null,
   "metadata": {},
   "outputs": [],
   "source": [
    "# Get node-name\n",
    "# More explanation below at \"Step 4 - Set reverse lookup\". There are multiple ways to do this\n",
    "address_to_resolve = w3.eth.accounts[0]\n",
    "address_node_hash = reverse_registrar.functions.node(address_to_resolve).call()\n",
    "\n",
    "# Fetch the registered resolver address\n",
    "a_reverse_resolver_addr = registry.functions.resolver(address_node_hash).call()\n",
    "\n",
    "# Fetch the resolver\n",
    "a_reverse_resolver = w3.eth.contract(address=Web3.toChecksumAddress(a_reverse_resolver_addr), abi=reverse_resolver_abi)\n",
    "registered_name = a_reverse_resolver.functions.name(address_node_hash).call()\n",
    "\n",
    "print(registered_name + \" is the canonical name to \" + address_to_resolve)"
   ]
  },
  {
   "cell_type": "markdown",
   "metadata": {},
   "source": [
    "## Registering and managing names (nodes)"
   ]
  },
  {
   "cell_type": "markdown",
   "metadata": {},
   "source": [
    "### Step 1 - Check if a name is available to register"
   ]
  },
  {
   "cell_type": "code",
   "execution_count": null,
   "metadata": {},
   "outputs": [],
   "source": [
    "# check ownership directly interacting with the registry contract\n",
    "name_to_check = \"mycompany.ewf\"\n",
    "taken_by = registry.functions.owner(name_to_hash(name_to_check)).call()\n",
    "if taken_by == ADDRESS_EMPTY:\n",
    "    print(name_to_check + \" is available\")\n",
    "else:\n",
    "    print(name_to_check + \" is taken by \" + str(taken_by))"
   ]
  },
  {
   "cell_type": "markdown",
   "metadata": {},
   "source": [
    "### Step 2 - Registering ownership of a name\n",
    "Claim ownership of your desired domain (FIFS registrar: first come, first served)\n",
    "It will be registered under the .ewf top level domain"
   ]
  },
  {
   "cell_type": "code",
   "execution_count": null,
   "metadata": {},
   "outputs": [],
   "source": [
    "nameowner = w3.eth.accounts[0]\n",
    "label = \"mycompany\"\n",
    "registrar.functions.register(label_to_hash(label), nameowner).transact()"
   ]
  },
  {
   "cell_type": "markdown",
   "metadata": {},
   "source": [
    "#### Change owner of a node"
   ]
  },
  {
   "cell_type": "code",
   "execution_count": null,
   "metadata": {},
   "outputs": [],
   "source": [
    "newowner = Web3.toChecksumAddress(\"new_owner_address_here\")\n",
    "registry.functions.setOwner(label_to_hash(label), newowner).transact()"
   ]
  },
  {
   "cell_type": "markdown",
   "metadata": {},
   "source": [
    "### Step 3 - Mapping an address to your name\n",
    "Map the name to point to your desired address in a Resolver contract\n",
    " - Feel free to use the supplied public resolver, but you can also deploy your own\n",
    " - You need to have ownership of the name already\n",
    " - Give it a lil gas"
   ]
  },
  {
   "cell_type": "code",
   "execution_count": null,
   "metadata": {},
   "outputs": [],
   "source": [
    "point_to_address = Web3.toChecksumAddress(w3.eth.accounts[0])\n",
    "name_to_map = \"mycompany.ewf\"\n",
    "txhash = resolver.functions.setAddr(name_to_hash(name_to_map), point_to_address).transact({\"gas\": 8000000})\n",
    "txreceipt = w3.eth.waitForTransactionReceipt(txhash)"
   ]
  },
  {
   "cell_type": "code",
   "execution_count": null,
   "metadata": {},
   "outputs": [],
   "source": [
    "# verify the result - wait for like 5 secs till it getg mined\n",
    "assert resolver.functions.addr(name_to_hash(name_to_map)).call() == point_to_address\n",
    "print(\"Great!\")"
   ]
  },
  {
   "cell_type": "markdown",
   "metadata": {},
   "source": [
    "#### Change/set the resolver of the node\n",
    "After you map your address in a resolver, don't forget to set it in the ENS Registry contract"
   ]
  },
  {
   "cell_type": "code",
   "execution_count": null,
   "metadata": {},
   "outputs": [],
   "source": [
    "# change resolver of a node\n",
    "new_resolver_address = resolver_address\n",
    "registry.functions.setResolver(name_to_hash(\"mycompany.ewf\"), new_resolver_address).transact()"
   ]
  },
  {
   "cell_type": "markdown",
   "metadata": {},
   "source": [
    "### Step 4 -  Set reverse lookup\n",
    "Now you also want others to check the canonical name that belongs to your address. Multiple names can belong to an address, but you can set only one for reverse lookups. This step is optional.\n",
    "\n",
    "Fortunately, the setName method of the registrar automatically sets the resolver address too in the ENS registry.\n",
    "\n",
    "Reverse Registrar holds the \".addr.reverse\" top domain.\n",
    "Address nodes are registered in the form of \"< hex account address >.addr.reverse\".\n",
    "To reverse lookup the name for an address, just simply do a lookup to < hex account address >.addr.reverse. Don't forget to remove the the leading '0x' from the address.\n"
   ]
  },
  {
   "cell_type": "code",
   "execution_count": null,
   "metadata": {},
   "outputs": [],
   "source": [
    "# Registering the reverse record\n",
    "\n",
    "# Calling account must be the owner of the name\n",
    "nameowner = w3.eth.accounts[0]\n",
    "name_to_map = \"mycompany.ewf\"\n",
    "txhash = reverse_registrar.functions.setName(name_to_map).transact({\"from\": nameowner})\n",
    "txreceipt = w3.eth.waitForTransactionReceipt(txhash)"
   ]
  },
  {
   "cell_type": "code",
   "execution_count": null,
   "metadata": {},
   "outputs": [],
   "source": [
    "# Doing a reverse lookup method 1 - getting the address node hash from the registrar contract\n",
    "addressnode_namehash1 = reverse_registrar.functions.node(nameowner).call()\n",
    "registered_name_1 = reverse_resolver.functions.name(addressnode_namehash1).call()\n",
    "\n",
    "# Doing a reverse lookup method 2 - caculating the addres node hash yourself\n",
    "# you have to cut down the '0x' beginning of the address string\n",
    "addressnode_namehash2 = name_to_hash(str(nameowner)[2:]+\".addr.reverse\")\n",
    "registered_name_2 = reverse_resolver.functions.name(addressnode_namehash2).call()\n",
    "\n",
    "# Doing a reverse lookup method 3 - if a custom/different resolver was used then the provided one,\n",
    "# first you can get its address from the registry\n",
    "custom_reverse_resolver_addr = registry.functions.resolver(addressnode_namehash1).call()\n",
    "\n",
    "# instantiate using its abi, then proceed with a regular lookup as in version 1 or 2\n",
    "# in this case it is the same abi as before (this is just a showcase)\n",
    "custom_reverse_resolver = w3.eth.contract(address=Web3.toChecksumAddress(custom_reverse_resolver_addr), abi=reverse_resolver_abi)\n",
    "registered_name_3 = custom_reverse_resolver.functions.name(addressnode_namehash1).call()\n",
    "\n",
    "assert registered_name_1 == registered_name_2 == registered_name_3\n",
    "\n",
    "print(\"{} reverse lookup: {}\".format(nameowner, registered_name_1))"
   ]
  },
  {
   "cell_type": "markdown",
   "metadata": {},
   "source": [
    "### Step 5 - Register subnodes\n",
    "Once you have ownership of a name (node), you have the ability to register sub-nodes as well.\n",
    "E.g: adam.yourdomain.ewf\n",
    "You have to be the owner of the root domain (in this case yourdomain.ewf) in order to register a subnode."
   ]
  },
  {
   "cell_type": "code",
   "execution_count": null,
   "metadata": {},
   "outputs": [],
   "source": [
    "# I want to register my name (adam) as a subdomain under mycompany.ewf => adam.mycompany.ewf\n",
    "# in this case I register the subnode for my account as well\n",
    "subnodeowner = w3.eth.accounts[0]\n",
    "txhash = registry.functions.setSubnodeOwner(name_to_hash(\"mycompany.ewf\"), label_to_hash(\"adam\"), subnodeowner).transact({\"gas\": 8000000})\n",
    "txreceipt = w3.eth.waitForTransactionReceipt(txhash)"
   ]
  },
  {
   "cell_type": "code",
   "execution_count": null,
   "metadata": {},
   "outputs": [],
   "source": [
    "# verify the ownership transfer - wait for like 5 secs till it get mined\n",
    "assert registry.functions.owner(name_to_hash(\"adam.mycompany.ewf\")).call() == subnodeowner"
   ]
  },
  {
   "cell_type": "markdown",
   "metadata": {},
   "source": [
    "### Step 6 - Your experiments here\n",
    "\n",
    "Feel free to play around with ENS"
   ]
  },
  {
   "cell_type": "code",
   "execution_count": null,
   "metadata": {},
   "outputs": [],
   "source": []
  }
 ],
 "metadata": {
  "kernelspec": {
   "display_name": "Python 3",
   "language": "python",
   "name": "python3"
  },
  "language_info": {
   "codemirror_mode": {
    "name": "ipython",
    "version": 3
   },
   "file_extension": ".py",
   "mimetype": "text/x-python",
   "name": "python",
   "nbconvert_exporter": "python",
   "pygments_lexer": "ipython3",
   "version": "3.6.6"
  }
 },
 "nbformat": 4,
 "nbformat_minor": 2
}
